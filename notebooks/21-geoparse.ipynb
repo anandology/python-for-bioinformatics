{
 "cells": [
  {
   "cell_type": "markdown",
   "id": "af4ca53c",
   "metadata": {},
   "source": [
    "# Extract data from GEO accession display on NCBI"
   ]
  },
  {
   "cell_type": "markdown",
   "id": "245502d1",
   "metadata": {},
   "source": [
    "The [NCBI][1] website maintains Gene Expression Omnibus (GEO), a public functional genomics data repository, and provides a GEO accession display tool to display [GEO accessions][2]. \n",
    "\n",
    "For example, look at the [GEO accession for GSE109816][3].\n",
    "\n",
    "In this notebook we'll explore how to access that programtically using Python.\n",
    "\n",
    "[1]: https://www.ncbi.nlm.nih.gov/\n",
    "[2]: https://www.ncbi.nlm.nih.gov/geo/query/acc.cgi\n",
    "[3]: https://www.ncbi.nlm.nih.gov/geo/query/acc.cgi?acc=GSE109816"
   ]
  },
  {
   "cell_type": "markdown",
   "id": "d9006db7",
   "metadata": {},
   "source": [
    "## GEOparse"
   ]
  },
  {
   "cell_type": "markdown",
   "id": "a3a07f43",
   "metadata": {},
   "source": [
    "There is a Python library `GEOparse` to access the GEO Database."
   ]
  },
  {
   "cell_type": "markdown",
   "id": "005a442c",
   "metadata": {},
   "source": [
    "You can install it using:"
   ]
  },
  {
   "cell_type": "code",
   "execution_count": 1,
   "id": "7748a400",
   "metadata": {},
   "outputs": [
    {
     "name": "stdout",
     "output_type": "stream",
     "text": [
      "Defaulting to user installation because normal site-packages is not writeable\n",
      "Requirement already satisfied: GEOparse in /home/anand/.local/lib/python3.10/site-packages (2.0.3)\n",
      "Requirement already satisfied: numpy>=1.7 in /home/anand/.local/lib/python3.10/site-packages (from GEOparse) (1.24.1)\n",
      "Requirement already satisfied: tqdm>=4.31.1 in /home/anand/.local/lib/python3.10/site-packages (from GEOparse) (4.65.0)\n",
      "Requirement already satisfied: pandas>=0.17 in /home/anand/.local/lib/python3.10/site-packages (from GEOparse) (1.5.2)\n",
      "Requirement already satisfied: requests>=2.21.0 in /home/anand/.local/lib/python3.10/site-packages (from GEOparse) (2.28.1)\n",
      "Requirement already satisfied: python-dateutil>=2.8.1 in /home/anand/.local/lib/python3.10/site-packages (from pandas>=0.17->GEOparse) (2.8.2)\n",
      "Requirement already satisfied: pytz>=2020.1 in /usr/lib/python3/dist-packages (from pandas>=0.17->GEOparse) (2022.1)\n",
      "Requirement already satisfied: charset-normalizer<3,>=2 in /home/anand/.local/lib/python3.10/site-packages (from requests>=2.21.0->GEOparse) (2.1.1)\n",
      "Requirement already satisfied: idna<4,>=2.5 in /usr/lib/python3/dist-packages (from requests>=2.21.0->GEOparse) (3.3)\n",
      "Requirement already satisfied: certifi>=2017.4.17 in /usr/lib/python3/dist-packages (from requests>=2.21.0->GEOparse) (2020.6.20)\n",
      "Requirement already satisfied: urllib3<1.27,>=1.21.1 in /usr/lib/python3/dist-packages (from requests>=2.21.0->GEOparse) (1.26.5)\n",
      "Requirement already satisfied: six>=1.5 in /usr/lib/python3/dist-packages (from python-dateutil>=2.8.1->pandas>=0.17->GEOparse) (1.16.0)\n"
     ]
    }
   ],
   "source": [
    "!pip install GEOparse"
   ]
  },
  {
   "cell_type": "markdown",
   "id": "8ca1cbcd",
   "metadata": {},
   "source": [
    "Once it is installed, you can import the module."
   ]
  },
  {
   "cell_type": "code",
   "execution_count": 2,
   "id": "c1f9dda1",
   "metadata": {},
   "outputs": [],
   "source": [
    "import GEOparse"
   ]
  },
  {
   "cell_type": "code",
   "execution_count": 32,
   "id": "fcd25f6f",
   "metadata": {},
   "outputs": [],
   "source": [
    "geo_id = \"GSE109816\""
   ]
  },
  {
   "cell_type": "code",
   "execution_count": 138,
   "id": "dc5b8282",
   "metadata": {},
   "outputs": [
    {
     "name": "stderr",
     "output_type": "stream",
     "text": [
      "19-May-2023 21:40:54 DEBUG utils - Directory ./ already exists. Skipping.\n",
      "19-May-2023 21:40:54 INFO GEOparse - File already exist: using local version.\n",
      "19-May-2023 21:40:54 INFO GEOparse - Parsing ./GSE109816_family.soft.gz: \n",
      "19-May-2023 21:40:54 DEBUG GEOparse - DATABASE: GeoMiame\n",
      "19-May-2023 21:40:54 DEBUG GEOparse - SERIES: GSE109816\n",
      "19-May-2023 21:40:54 DEBUG GEOparse - PLATFORM: GPL18573\n",
      "19-May-2023 21:40:54 DEBUG GEOparse - SAMPLE: GSM2970358\n",
      "19-May-2023 21:40:54 DEBUG GEOparse - SAMPLE: GSM2970359\n",
      "19-May-2023 21:40:54 DEBUG GEOparse - SAMPLE: GSM2970360\n",
      "19-May-2023 21:40:54 DEBUG GEOparse - SAMPLE: GSM2970361\n",
      "19-May-2023 21:40:54 DEBUG GEOparse - SAMPLE: GSM2970362\n",
      "19-May-2023 21:40:54 DEBUG GEOparse - SAMPLE: GSM2970363\n",
      "19-May-2023 21:40:54 DEBUG GEOparse - SAMPLE: GSM2970364\n",
      "19-May-2023 21:40:54 DEBUG GEOparse - SAMPLE: GSM2970365\n",
      "19-May-2023 21:40:54 DEBUG GEOparse - SAMPLE: GSM2970366\n",
      "19-May-2023 21:40:54 DEBUG GEOparse - SAMPLE: GSM2970367\n",
      "19-May-2023 21:40:54 DEBUG GEOparse - SAMPLE: GSM2970368\n",
      "19-May-2023 21:40:54 DEBUG GEOparse - SAMPLE: GSM2970369\n"
     ]
    }
   ],
   "source": [
    "gse = GEOparse.get_GEO(geo=geo_id)"
   ]
  },
  {
   "cell_type": "code",
   "execution_count": 132,
   "id": "b189baea",
   "metadata": {},
   "outputs": [
    {
     "data": {
      "text/plain": [
       "<SERIES: None - 12 SAMPLES, 0 d(s)>"
      ]
     },
     "execution_count": 132,
     "metadata": {},
     "output_type": "execute_result"
    }
   ],
   "source": [
    "gse"
   ]
  },
  {
   "cell_type": "code",
   "execution_count": 133,
   "id": "f18e08f4",
   "metadata": {},
   "outputs": [],
   "source": [
    "gse.name"
   ]
  },
  {
   "cell_type": "code",
   "execution_count": 134,
   "id": "2d4ad79a",
   "metadata": {},
   "outputs": [
    {
     "data": {
      "text/plain": [
       "'SERIES'"
      ]
     },
     "execution_count": 134,
     "metadata": {},
     "output_type": "execute_result"
    }
   ],
   "source": [
    "gse.geotype"
   ]
  },
  {
   "cell_type": "code",
   "execution_count": 137,
   "id": "1af25d1e",
   "metadata": {
    "scrolled": true
   },
   "outputs": [
    {
     "data": {
      "text/plain": [
       "{}"
      ]
     },
     "execution_count": 137,
     "metadata": {},
     "output_type": "execute_result"
    }
   ],
   "source": [
    "gse.gpls"
   ]
  },
  {
   "cell_type": "markdown",
   "id": "4d977853",
   "metadata": {},
   "source": [
    "## Extracing Information from the record"
   ]
  },
  {
   "cell_type": "markdown",
   "id": "71e5b408",
   "metadata": {},
   "source": [
    "We are interested to extract the following information from the record:\n",
    "\n",
    "- Title\n",
    "- Organism\n",
    "- Experiment type\n",
    "- Summary\n",
    "- Contact name\n",
    "- Contributor\n",
    "- Submitter\n",
    "- Overall Design\n",
    "- Platform  (available by following the the platform ID link)"
   ]
  },
  {
   "cell_type": "markdown",
   "id": "f36de792",
   "metadata": {},
   "source": [
    "The `gse.metatadata` has all these fields. "
   ]
  },
  {
   "cell_type": "code",
   "execution_count": 41,
   "id": "0bc69279",
   "metadata": {},
   "outputs": [
    {
     "name": "stdout",
     "output_type": "stream",
     "text": [
      "Title: Dissecting cell composition and cell-cell interaction network of normal human heart tissue by single-cell sequencing\n",
      "Contact Name: Li,,Wang\n",
      "Contributors: ['Li,,Wang', 'Peng,,Yu', 'Zheng,,Li', 'Zongna,,Ren']\n",
      "\n",
      "Expression Type: Expression profiling by high throughput sequencing\n",
      "Overall Design: Extract cells from left ateria and ventricle of normal heart and conduct single-cell sequencing of 9994 cells.\n",
      "\n",
      "Summary:\n",
      "We studied the cell compositon of normal human heart by single-cell sequencing. Distint subgroups of cardiac muscle, fibroblast cell and endothelial cell were detected. We drawed a cell-cell interaction network using specific expressed ligands and receptors of cells. And we also observed the change of interaction and cell transformation with age.\n",
      "\n"
     ]
    }
   ],
   "source": [
    "title = gse.metadata['title'][0]\n",
    "expression_type = gse.metadata['type'][0]\n",
    "summary = gse.metadata['summary'][0]\n",
    "contact_name = gse.metadata['contact_name'][0]\n",
    "contributors = gse.metadata['contributor']\n",
    "overall_design = gse.metadata['overall_design'][0]\n",
    "\n",
    "print(\"Title:\", title)\n",
    "print(\"Contact Name:\", contact_name)\n",
    "print(\"Contributors:\", contributor)\n",
    "print()\n",
    "\n",
    "print(\"Expression Type:\", expression_type)\n",
    "print(\"Overall Design:\", overall_design)\n",
    "print()\n",
    "\n",
    "print(\"Summary:\")\n",
    "print(summary)\n",
    "print()\n"
   ]
  },
  {
   "cell_type": "markdown",
   "id": "c9405cdd",
   "metadata": {},
   "source": [
    "We got all the fields except the _organism_ and _technology type_. They are references to other geo records."
   ]
  },
  {
   "cell_type": "code",
   "execution_count": 91,
   "id": "f15b36d5",
   "metadata": {},
   "outputs": [],
   "source": [
    "organism_id = gse.metadata['sample_taxid'][0]\n",
    "platform_id = gse.metadata['platform_id'][0]"
   ]
  },
  {
   "cell_type": "code",
   "execution_count": 92,
   "id": "ce985c0c",
   "metadata": {},
   "outputs": [
    {
     "data": {
      "text/plain": [
       "'9606'"
      ]
     },
     "execution_count": 92,
     "metadata": {},
     "output_type": "execute_result"
    }
   ],
   "source": [
    "organism_id"
   ]
  },
  {
   "cell_type": "code",
   "execution_count": 93,
   "id": "cea7c2b8",
   "metadata": {},
   "outputs": [
    {
     "data": {
      "text/plain": [
       "'GPL18573'"
      ]
     },
     "execution_count": 93,
     "metadata": {},
     "output_type": "execute_result"
    }
   ],
   "source": [
    "platform_id"
   ]
  },
  {
   "cell_type": "code",
   "execution_count": 79,
   "id": "cc8d615c",
   "metadata": {},
   "outputs": [],
   "source": [
    "from Bio import Entrez\n",
    "Entrez.email = \"anand+pybfx@pipal.in\"\n",
    "\n",
    "def get_tax_data(taxid):\n",
    "    handle = Entrez.efetch(id=taxid, db=\"taxonomy\", retmode=\"xml\")\n",
    "    records = Entrez.read(handle)\n",
    "    if records:\n",
    "        return records[0]\n",
    "\n",
    "def get_scientific_name(tax_id):\n",
    "    data = get_tax_data(tax_id)\n",
    "    return data['ScientificName']"
   ]
  },
  {
   "cell_type": "code",
   "execution_count": 80,
   "id": "89984299",
   "metadata": {},
   "outputs": [
    {
     "data": {
      "text/plain": [
       "'Homo sapiens'"
      ]
     },
     "execution_count": 80,
     "metadata": {},
     "output_type": "execute_result"
    }
   ],
   "source": [
    "get_scientific_name(\"9606\")"
   ]
  },
  {
   "cell_type": "code",
   "execution_count": 94,
   "id": "695867e9",
   "metadata": {},
   "outputs": [
    {
     "data": {
      "text/plain": [
       "'GPL18573'"
      ]
     },
     "execution_count": 94,
     "metadata": {},
     "output_type": "execute_result"
    }
   ],
   "source": [
    "platform_id"
   ]
  },
  {
   "cell_type": "code",
   "execution_count": 96,
   "id": "c042b2fe",
   "metadata": {},
   "outputs": [
    {
     "name": "stderr",
     "output_type": "stream",
     "text": [
      "19-May-2023 21:24:57 DEBUG utils - Directory ./ already exists. Skipping.\n",
      "19-May-2023 21:24:57 INFO GEOparse - File already exist: using local version.\n",
      "19-May-2023 21:24:57 INFO GEOparse - Parsing ./GPL18573.txt: \n",
      "19-May-2023 21:24:57 DEBUG GEOparse - PLATFORM: GPL18573\n"
     ]
    }
   ],
   "source": [
    "geo_tech = GEOparse.get_GEO(platform_id)"
   ]
  },
  {
   "cell_type": "code",
   "execution_count": 101,
   "id": "23fc8f59",
   "metadata": {},
   "outputs": [],
   "source": [
    "platform = geo_tech.metadata['title'][0]"
   ]
  },
  {
   "cell_type": "code",
   "execution_count": 102,
   "id": "b129be54",
   "metadata": {},
   "outputs": [
    {
     "data": {
      "text/plain": [
       "'Illumina NextSeq 500 (Homo sapiens)'"
      ]
     },
     "execution_count": 102,
     "metadata": {},
     "output_type": "execute_result"
    }
   ],
   "source": [
    "platform"
   ]
  },
  {
   "cell_type": "markdown",
   "id": "474ee114",
   "metadata": {},
   "source": [
    "### Putting all of this together"
   ]
  },
  {
   "cell_type": "code",
   "execution_count": 103,
   "id": "dc331a27",
   "metadata": {},
   "outputs": [
    {
     "name": "stderr",
     "output_type": "stream",
     "text": [
      "19-May-2023 21:25:26 DEBUG utils - Directory ./ already exists. Skipping.\n",
      "19-May-2023 21:25:26 INFO GEOparse - File already exist: using local version.\n",
      "19-May-2023 21:25:26 INFO GEOparse - Parsing ./GSE109816_family.soft.gz: \n",
      "19-May-2023 21:25:26 DEBUG GEOparse - DATABASE: GeoMiame\n",
      "19-May-2023 21:25:26 DEBUG GEOparse - SERIES: GSE109816\n",
      "19-May-2023 21:25:26 DEBUG GEOparse - PLATFORM: GPL18573\n",
      "19-May-2023 21:25:26 DEBUG GEOparse - SAMPLE: GSM2970358\n",
      "19-May-2023 21:25:26 DEBUG GEOparse - SAMPLE: GSM2970359\n",
      "19-May-2023 21:25:26 DEBUG GEOparse - SAMPLE: GSM2970360\n",
      "19-May-2023 21:25:26 DEBUG GEOparse - SAMPLE: GSM2970361\n",
      "19-May-2023 21:25:26 DEBUG GEOparse - SAMPLE: GSM2970362\n",
      "19-May-2023 21:25:26 DEBUG GEOparse - SAMPLE: GSM2970363\n",
      "19-May-2023 21:25:26 DEBUG GEOparse - SAMPLE: GSM2970364\n",
      "19-May-2023 21:25:26 DEBUG GEOparse - SAMPLE: GSM2970365\n",
      "19-May-2023 21:25:26 DEBUG GEOparse - SAMPLE: GSM2970366\n",
      "19-May-2023 21:25:26 DEBUG GEOparse - SAMPLE: GSM2970367\n",
      "19-May-2023 21:25:26 DEBUG GEOparse - SAMPLE: GSM2970368\n",
      "19-May-2023 21:25:26 DEBUG GEOparse - SAMPLE: GSM2970369\n",
      "19-May-2023 21:25:27 DEBUG utils - Directory ./ already exists. Skipping.\n",
      "19-May-2023 21:25:27 INFO GEOparse - File already exist: using local version.\n",
      "19-May-2023 21:25:27 INFO GEOparse - Parsing ./GPL18573.txt: \n",
      "19-May-2023 21:25:27 DEBUG GEOparse - PLATFORM: GPL18573\n"
     ]
    },
    {
     "name": "stdout",
     "output_type": "stream",
     "text": [
      "Title: Dissecting cell composition and cell-cell interaction network of normal human heart tissue by single-cell sequencing\n",
      "Contact Name: Li,,Wang\n",
      "Contributors: ['Li,,Wang', 'Peng,,Yu', 'Zheng,,Li', 'Zongna,,Ren']\n",
      "\n",
      "Expression Type: Expression profiling by high throughput sequencing\n",
      "Overall Design: Extract cells from left ateria and ventricle of normal heart and conduct single-cell sequencing of 9994 cells.\n",
      "\n",
      "Organization: Homo sapiens\n",
      "Platform: Illumina NextSeq 500 (Homo sapiens)\n",
      "\n",
      "Summary:\n",
      "We studied the cell compositon of normal human heart by single-cell sequencing. Distint subgroups of cardiac muscle, fibroblast cell and endothelial cell were detected. We drawed a cell-cell interaction network using specific expressed ligands and receptors of cells. And we also observed the change of interaction and cell transformation with age.\n",
      "\n"
     ]
    }
   ],
   "source": [
    "import GEOparse\n",
    "from Bio import Entrez\n",
    "\n",
    "# replace this with your email\n",
    "Entrez.email = \"anand+pybfx@pipal.in\"\n",
    "\n",
    "\n",
    "def get_tax_data(taxid):\n",
    "    handle = Entrez.efetch(id=taxid, db=\"taxonomy\", retmode=\"xml\")\n",
    "    records = Entrez.read(handle)\n",
    "    if records:\n",
    "        return records[0]\n",
    "\n",
    "def get_scientific_name(tax_id):\n",
    "    data = get_tax_data(tax_id)\n",
    "    return data['ScientificName']\n",
    "\n",
    "def get_geo_title(geo_id):\n",
    "    return GEOparse.get_GEO(technology_type_id).metadata['title'][0]\n",
    "\n",
    "geo_id = \"GSE109816\"\n",
    "\n",
    "gse = GEOparse.get_GEO(geo=geo_id)\n",
    "\n",
    "title = gse.metadata['title'][0]\n",
    "expression_type = gse.metadata['type'][0]\n",
    "\n",
    "contact_name = gse.metadata['contact_name'][0]\n",
    "contributors = gse.metadata['contributor']\n",
    "overall_design = gse.metadata['overall_design'][0]\n",
    "\n",
    "organization_id = gse.metadata['sample_taxid'][0]\n",
    "organization = get_scientific_name(organization_id)\n",
    "\n",
    "platform_id = gse.metadata['platform_id']\n",
    "platform = get_geo_title(platform_id)\n",
    "\n",
    "summary = gse.metadata['summary'][0]\n",
    "\n",
    "print(\"Title:\", title)\n",
    "print(\"Contact Name:\", contact_name)\n",
    "print(\"Contributors:\", contributor)\n",
    "print()\n",
    "\n",
    "print(\"Expression Type:\", expression_type)\n",
    "print(\"Overall Design:\", overall_design)\n",
    "print()\n",
    "\n",
    "print(\"Organization:\", organization)\n",
    "print(\"Platform:\", platform)\n",
    "print()\n",
    "\n",
    "print(\"Summary:\")\n",
    "print(summary)\n",
    "print()\n"
   ]
  },
  {
   "cell_type": "code",
   "execution_count": null,
   "id": "b31e9bbe",
   "metadata": {},
   "outputs": [],
   "source": []
  },
  {
   "cell_type": "markdown",
   "id": "d16f7885",
   "metadata": {},
   "source": [
    "## Extracting Multiple Records and saving as CSV"
   ]
  },
  {
   "cell_type": "markdown",
   "id": "0b4bee36",
   "metadata": {},
   "source": [
    "We can change the prpgram to download multiple records together and convert the data as a pandas Dataframe and then export to a csv file."
   ]
  },
  {
   "cell_type": "code",
   "execution_count": null,
   "id": "4721ee03",
   "metadata": {},
   "outputs": [],
   "source": []
  },
  {
   "cell_type": "code",
   "execution_count": 110,
   "id": "98871ba1",
   "metadata": {},
   "outputs": [],
   "source": [
    "import GEOparse\n",
    "from Bio import Entrez\n",
    "import pandas as pd\n",
    "\n",
    "# replace this with your email\n",
    "Entrez.email = \"anand+pybfx@pipal.in\"\n"
   ]
  },
  {
   "cell_type": "code",
   "execution_count": 109,
   "id": "6f834bcf",
   "metadata": {},
   "outputs": [],
   "source": [
    "def get_tax_data(taxid):\n",
    "    \"\"\"Returns the record from the NCBI taxonomy database.\n",
    "    \"\"\"\n",
    "    handle = Entrez.efetch(id=taxid, db=\"taxonomy\", retmode=\"xml\")\n",
    "    records = Entrez.read(handle)\n",
    "    if records:\n",
    "        return records[0]\n",
    "\n",
    "def get_scientific_name(tax_id):\n",
    "    \"\"\"Returns the scientific name given a taxonomy id.\n",
    "    \"\"\"\n",
    "    data = get_tax_data(tax_id)\n",
    "    return data['ScientificName']\n",
    "\n",
    "def get_geo_title(geo_id):\n",
    "    \"\"\"Returns the title from the GEO record given the id.\n",
    "    \"\"\"\n",
    "    return GEOparse.get_GEO(technology_type_id).metadata['title'][0]\n",
    "\n",
    "def get_geo_record(geo_id):\n",
    "    \"\"\"Returns the GEO record as a dictionary.\n",
    "    \"\"\"\n",
    "    gse = GEOparse.get_GEO(geo=geo_id)\n",
    "\n",
    "    title = gse.metadata['title'][0]\n",
    "    expression_type = gse.metadata['type'][0]\n",
    "\n",
    "    contact_name = gse.metadata['contact_name'][0]\n",
    "    \n",
    "    # we need contributors as a single field, seperating them with |\n",
    "    contributors = \" | \".join(gse.metadata['contributor'])\n",
    "    \n",
    "    overall_design = gse.metadata['overall_design'][0]\n",
    "\n",
    "    organization_id = gse.metadata['sample_taxid'][0]\n",
    "    organization = get_scientific_name(organization_id)\n",
    "\n",
    "    platform_id = gse.metadata['platform_id']\n",
    "    platform = get_geo_title(platform_id)\n",
    "\n",
    "    summary = gse.metadata['summary'][0]\n",
    "    return {\n",
    "        \"id\": geo_id,\n",
    "        \"title\": title,\n",
    "        \"expression_type\": expression_type,\n",
    "        \"contact_name\": contact_name,\n",
    "        \"contributors\": contributors,\n",
    "        \"overall_design\": overall_design,\n",
    "        \"organization\": organization,\n",
    "        \"platform\": platform\n",
    "    }"
   ]
  },
  {
   "cell_type": "markdown",
   "id": "00a91d03",
   "metadata": {},
   "source": [
    "Let's see if the `get_geo_record` is working."
   ]
  },
  {
   "cell_type": "code",
   "execution_count": 108,
   "id": "83f3703e",
   "metadata": {},
   "outputs": [
    {
     "name": "stderr",
     "output_type": "stream",
     "text": [
      "19-May-2023 21:31:37 DEBUG utils - Directory ./ already exists. Skipping.\n",
      "19-May-2023 21:31:37 INFO GEOparse - File already exist: using local version.\n",
      "19-May-2023 21:31:37 INFO GEOparse - Parsing ./GSE109816_family.soft.gz: \n",
      "19-May-2023 21:31:37 DEBUG GEOparse - DATABASE: GeoMiame\n",
      "19-May-2023 21:31:37 DEBUG GEOparse - SERIES: GSE109816\n",
      "19-May-2023 21:31:37 DEBUG GEOparse - PLATFORM: GPL18573\n",
      "19-May-2023 21:31:37 DEBUG GEOparse - SAMPLE: GSM2970358\n",
      "19-May-2023 21:31:37 DEBUG GEOparse - SAMPLE: GSM2970359\n",
      "19-May-2023 21:31:37 DEBUG GEOparse - SAMPLE: GSM2970360\n",
      "19-May-2023 21:31:37 DEBUG GEOparse - SAMPLE: GSM2970361\n",
      "19-May-2023 21:31:37 DEBUG GEOparse - SAMPLE: GSM2970362\n",
      "19-May-2023 21:31:37 DEBUG GEOparse - SAMPLE: GSM2970363\n",
      "19-May-2023 21:31:37 DEBUG GEOparse - SAMPLE: GSM2970364\n",
      "19-May-2023 21:31:37 DEBUG GEOparse - SAMPLE: GSM2970365\n",
      "19-May-2023 21:31:37 DEBUG GEOparse - SAMPLE: GSM2970366\n",
      "19-May-2023 21:31:37 DEBUG GEOparse - SAMPLE: GSM2970367\n",
      "19-May-2023 21:31:37 DEBUG GEOparse - SAMPLE: GSM2970368\n",
      "19-May-2023 21:31:37 DEBUG GEOparse - SAMPLE: GSM2970369\n",
      "19-May-2023 21:31:39 DEBUG utils - Directory ./ already exists. Skipping.\n",
      "19-May-2023 21:31:39 INFO GEOparse - File already exist: using local version.\n",
      "19-May-2023 21:31:39 INFO GEOparse - Parsing ./GPL18573.txt: \n",
      "19-May-2023 21:31:39 DEBUG GEOparse - PLATFORM: GPL18573\n"
     ]
    },
    {
     "data": {
      "text/plain": [
       "{'title': 'Dissecting cell composition and cell-cell interaction network of normal human heart tissue by single-cell sequencing',\n",
       " 'expression_type': 'Expression profiling by high throughput sequencing',\n",
       " 'contact_name': 'Li,,Wang',\n",
       " 'contributors': 'Li,,Wang | Peng,,Yu | Zheng,,Li | Zongna,,Ren',\n",
       " 'overall_design': 'Extract cells from left ateria and ventricle of normal heart and conduct single-cell sequencing of 9994 cells.',\n",
       " 'organization': 'Homo sapiens',\n",
       " 'platform': 'Illumina NextSeq 500 (Homo sapiens)'}"
      ]
     },
     "execution_count": 108,
     "metadata": {},
     "output_type": "execute_result"
    }
   ],
   "source": [
    "get_geo_record(\"GSE109816\")"
   ]
  },
  {
   "cell_type": "markdown",
   "id": "5fe35d0a",
   "metadata": {},
   "source": [
    "That seems to be working. "
   ]
  },
  {
   "cell_type": "markdown",
   "id": "f5309060",
   "metadata": {},
   "source": [
    "Let's see how to process mutliple of the them."
   ]
  },
  {
   "cell_type": "code",
   "execution_count": 139,
   "id": "b22e7d81",
   "metadata": {},
   "outputs": [],
   "source": [
    "def get_geo_records(geo_ids):\n",
    "    \"\"\"Gets multiple geo records from NCBI geo database as a pandas dataframe.\n",
    "    \"\"\"\n",
    "    records = [get_geo_record(geo_id) for geo_id in geo_ids]\n",
    "    df = pd.DataFrame(records)\n",
    "    df.set_index(\"id\", inplace=True)\n",
    "    return df"
   ]
  },
  {
   "cell_type": "code",
   "execution_count": 140,
   "id": "2321dae2",
   "metadata": {},
   "outputs": [],
   "source": [
    "geo_ids = [\"GSE109816\", \"GSE109817\", \"GSE109818\", \"GSE109819\", \"GSE109820\"]"
   ]
  },
  {
   "cell_type": "code",
   "execution_count": 147,
   "id": "cc74a747",
   "metadata": {
    "scrolled": false
   },
   "outputs": [
    {
     "name": "stderr",
     "output_type": "stream",
     "text": [
      "19-May-2023 21:50:57 DEBUG utils - Directory ./ already exists. Skipping.\n",
      "19-May-2023 21:50:57 INFO GEOparse - File already exist: using local version.\n",
      "19-May-2023 21:50:57 INFO GEOparse - Parsing ./GSE109816_family.soft.gz: \n",
      "19-May-2023 21:50:57 DEBUG GEOparse - DATABASE: GeoMiame\n",
      "19-May-2023 21:50:57 DEBUG GEOparse - SERIES: GSE109816\n",
      "19-May-2023 21:50:57 DEBUG GEOparse - PLATFORM: GPL18573\n",
      "19-May-2023 21:50:57 DEBUG GEOparse - SAMPLE: GSM2970358\n",
      "19-May-2023 21:50:57 DEBUG GEOparse - SAMPLE: GSM2970359\n",
      "19-May-2023 21:50:57 DEBUG GEOparse - SAMPLE: GSM2970360\n",
      "19-May-2023 21:50:57 DEBUG GEOparse - SAMPLE: GSM2970361\n",
      "19-May-2023 21:50:57 DEBUG GEOparse - SAMPLE: GSM2970362\n",
      "19-May-2023 21:50:57 DEBUG GEOparse - SAMPLE: GSM2970363\n",
      "19-May-2023 21:50:57 DEBUG GEOparse - SAMPLE: GSM2970364\n",
      "19-May-2023 21:50:57 DEBUG GEOparse - SAMPLE: GSM2970365\n",
      "19-May-2023 21:50:57 DEBUG GEOparse - SAMPLE: GSM2970366\n",
      "19-May-2023 21:50:57 DEBUG GEOparse - SAMPLE: GSM2970367\n",
      "19-May-2023 21:50:57 DEBUG GEOparse - SAMPLE: GSM2970368\n",
      "19-May-2023 21:50:57 DEBUG GEOparse - SAMPLE: GSM2970369\n",
      "19-May-2023 21:50:58 DEBUG utils - Directory ./ already exists. Skipping.\n",
      "19-May-2023 21:50:58 INFO GEOparse - File already exist: using local version.\n",
      "19-May-2023 21:50:58 INFO GEOparse - Parsing ./GPL18573.txt: \n",
      "19-May-2023 21:50:58 DEBUG GEOparse - PLATFORM: GPL18573\n",
      "19-May-2023 21:50:59 DEBUG utils - Directory ./ already exists. Skipping.\n",
      "19-May-2023 21:50:59 INFO GEOparse - File already exist: using local version.\n",
      "19-May-2023 21:50:59 INFO GEOparse - Parsing ./GSE109817_family.soft.gz: \n",
      "19-May-2023 21:50:59 DEBUG GEOparse - DATABASE: GeoMiame\n",
      "19-May-2023 21:50:59 DEBUG GEOparse - SERIES: GSE109817\n",
      "19-May-2023 21:50:59 DEBUG GEOparse - PLATFORM: GPL19057\n",
      "19-May-2023 21:50:59 DEBUG GEOparse - SAMPLE: GSM2970370\n",
      "19-May-2023 21:50:59 DEBUG GEOparse - SAMPLE: GSM2970371\n",
      "19-May-2023 21:50:59 DEBUG GEOparse - SAMPLE: GSM2970372\n",
      "19-May-2023 21:50:59 DEBUG GEOparse - SAMPLE: GSM2970373\n",
      "19-May-2023 21:50:59 DEBUG GEOparse - SAMPLE: GSM2970374\n",
      "19-May-2023 21:50:59 DEBUG GEOparse - SAMPLE: GSM2970375\n",
      "19-May-2023 21:50:59 DEBUG GEOparse - SAMPLE: GSM2970376\n",
      "19-May-2023 21:50:59 DEBUG GEOparse - SAMPLE: GSM2970377\n",
      "19-May-2023 21:50:59 DEBUG GEOparse - SAMPLE: GSM2970378\n",
      "19-May-2023 21:50:59 DEBUG GEOparse - SAMPLE: GSM2970379\n",
      "19-May-2023 21:50:59 DEBUG GEOparse - SAMPLE: GSM2970380\n",
      "19-May-2023 21:50:59 DEBUG GEOparse - SAMPLE: GSM2970381\n",
      "19-May-2023 21:51:00 DEBUG utils - Directory ./ already exists. Skipping.\n",
      "19-May-2023 21:51:00 INFO GEOparse - File already exist: using local version.\n",
      "19-May-2023 21:51:00 INFO GEOparse - Parsing ./GPL18573.txt: \n",
      "19-May-2023 21:51:00 DEBUG GEOparse - PLATFORM: GPL18573\n",
      "19-May-2023 21:51:01 DEBUG utils - Directory ./ already exists. Skipping.\n",
      "19-May-2023 21:51:01 INFO GEOparse - File already exist: using local version.\n",
      "19-May-2023 21:51:01 INFO GEOparse - Parsing ./GSE109818_family.soft.gz: \n",
      "19-May-2023 21:51:01 DEBUG GEOparse - DATABASE: GeoMiame\n",
      "19-May-2023 21:51:01 DEBUG GEOparse - SERIES: GSE109818\n",
      "19-May-2023 21:51:01 DEBUG GEOparse - PLATFORM: GPL570\n",
      "/home/anand/.local/lib/python3.10/site-packages/GEOparse/GEOparse.py:401: DtypeWarning: Columns (2) have mixed types. Specify dtype option on import or set low_memory=False.\n",
      "  return read_csv(StringIO(data), index_col=None, sep=\"\\t\")\n",
      "19-May-2023 21:51:03 DEBUG GEOparse - SAMPLE: GSM2970382\n",
      "19-May-2023 21:51:03 DEBUG GEOparse - SAMPLE: GSM2970383\n",
      "19-May-2023 21:51:03 DEBUG GEOparse - SAMPLE: GSM2970384\n",
      "19-May-2023 21:51:03 DEBUG GEOparse - SAMPLE: GSM2970385\n",
      "19-May-2023 21:51:03 DEBUG GEOparse - SAMPLE: GSM2970386\n",
      "19-May-2023 21:51:03 DEBUG GEOparse - SAMPLE: GSM2970387\n",
      "19-May-2023 21:51:03 DEBUG GEOparse - SAMPLE: GSM2970388\n",
      "19-May-2023 21:51:03 DEBUG GEOparse - SAMPLE: GSM2970389\n",
      "19-May-2023 21:51:03 DEBUG GEOparse - SAMPLE: GSM2970390\n",
      "19-May-2023 21:51:05 DEBUG utils - Directory ./ already exists. Skipping.\n",
      "19-May-2023 21:51:05 INFO GEOparse - File already exist: using local version.\n",
      "19-May-2023 21:51:05 INFO GEOparse - Parsing ./GPL18573.txt: \n",
      "19-May-2023 21:51:05 DEBUG GEOparse - PLATFORM: GPL18573\n",
      "19-May-2023 21:51:06 DEBUG utils - Directory ./ already exists. Skipping.\n",
      "19-May-2023 21:51:06 INFO GEOparse - File already exist: using local version.\n",
      "19-May-2023 21:51:06 INFO GEOparse - Parsing ./GSE109819_family.soft.gz: \n",
      "19-May-2023 21:51:06 DEBUG GEOparse - DATABASE: GeoMiame\n",
      "19-May-2023 21:51:06 DEBUG GEOparse - SERIES: GSE109819\n",
      "19-May-2023 21:51:06 DEBUG GEOparse - PLATFORM: GPL18133\n",
      "19-May-2023 21:51:06 DEBUG GEOparse - SAMPLE: GSM2970396\n",
      "19-May-2023 21:51:06 DEBUG GEOparse - SAMPLE: GSM2970397\n",
      "19-May-2023 21:51:06 DEBUG GEOparse - SAMPLE: GSM2970398\n",
      "19-May-2023 21:51:06 DEBUG GEOparse - SAMPLE: GSM2970399\n",
      "19-May-2023 21:51:06 DEBUG GEOparse - SAMPLE: GSM2970400\n",
      "19-May-2023 21:51:06 DEBUG GEOparse - SAMPLE: GSM2970401\n",
      "19-May-2023 21:51:07 DEBUG utils - Directory ./ already exists. Skipping.\n",
      "19-May-2023 21:51:07 INFO GEOparse - File already exist: using local version.\n",
      "19-May-2023 21:51:07 INFO GEOparse - Parsing ./GPL18573.txt: \n",
      "19-May-2023 21:51:07 DEBUG GEOparse - PLATFORM: GPL18573\n",
      "19-May-2023 21:51:08 DEBUG utils - Directory ./ already exists. Skipping.\n",
      "19-May-2023 21:51:08 INFO GEOparse - File already exist: using local version.\n",
      "19-May-2023 21:51:08 INFO GEOparse - Parsing ./GSE109820_family.soft.gz: \n",
      "19-May-2023 21:51:08 DEBUG GEOparse - DATABASE: GeoMiame\n",
      "19-May-2023 21:51:08 DEBUG GEOparse - SERIES: GSE109820\n",
      "19-May-2023 21:51:08 DEBUG GEOparse - PLATFORM: GPL11154\n",
      "19-May-2023 21:51:08 DEBUG GEOparse - SAMPLE: GSM2970402\n",
      "19-May-2023 21:51:08 DEBUG GEOparse - SAMPLE: GSM2970403\n",
      "19-May-2023 21:51:08 DEBUG GEOparse - SAMPLE: GSM2970404\n",
      "19-May-2023 21:51:08 DEBUG GEOparse - SAMPLE: GSM2970405\n",
      "19-May-2023 21:51:08 DEBUG GEOparse - SAMPLE: GSM2970406\n",
      "19-May-2023 21:51:08 DEBUG GEOparse - SAMPLE: GSM2970407\n",
      "19-May-2023 21:51:08 DEBUG GEOparse - SAMPLE: GSM2970408\n",
      "19-May-2023 21:51:08 DEBUG GEOparse - SAMPLE: GSM2970409\n",
      "19-May-2023 21:51:08 DEBUG GEOparse - SAMPLE: GSM2970410\n",
      "19-May-2023 21:51:08 DEBUG GEOparse - SAMPLE: GSM2970411\n",
      "19-May-2023 21:51:08 DEBUG GEOparse - SAMPLE: GSM2970412\n",
      "19-May-2023 21:51:08 DEBUG GEOparse - SAMPLE: GSM2970413\n",
      "19-May-2023 21:51:08 DEBUG GEOparse - SAMPLE: GSM2970414\n",
      "19-May-2023 21:51:08 DEBUG GEOparse - SAMPLE: GSM2970415\n",
      "19-May-2023 21:51:08 DEBUG GEOparse - SAMPLE: GSM2970416\n",
      "19-May-2023 21:51:08 DEBUG GEOparse - SAMPLE: GSM2970417\n",
      "19-May-2023 21:51:08 DEBUG GEOparse - SAMPLE: GSM2970418\n",
      "19-May-2023 21:51:08 DEBUG GEOparse - SAMPLE: GSM2970419\n",
      "19-May-2023 21:51:08 DEBUG GEOparse - SAMPLE: GSM2970420\n",
      "19-May-2023 21:51:08 DEBUG GEOparse - SAMPLE: GSM2970421\n",
      "19-May-2023 21:51:08 DEBUG GEOparse - SAMPLE: GSM2970422\n",
      "19-May-2023 21:51:08 DEBUG GEOparse - SAMPLE: GSM2970423\n",
      "19-May-2023 21:51:08 DEBUG GEOparse - SAMPLE: GSM2970424\n",
      "19-May-2023 21:51:08 DEBUG GEOparse - SAMPLE: GSM2970425\n",
      "19-May-2023 21:51:08 DEBUG GEOparse - SAMPLE: GSM2970426\n",
      "19-May-2023 21:51:08 DEBUG GEOparse - SAMPLE: GSM2970427\n",
      "19-May-2023 21:51:08 DEBUG GEOparse - SAMPLE: GSM2970428\n",
      "19-May-2023 21:51:08 DEBUG GEOparse - SAMPLE: GSM2970429\n",
      "19-May-2023 21:51:08 DEBUG GEOparse - SAMPLE: GSM2970430\n",
      "19-May-2023 21:51:08 DEBUG GEOparse - SAMPLE: GSM2970431\n",
      "19-May-2023 21:51:08 DEBUG GEOparse - SAMPLE: GSM2970432\n",
      "19-May-2023 21:51:08 DEBUG GEOparse - SAMPLE: GSM2970433\n",
      "19-May-2023 21:51:08 DEBUG GEOparse - SAMPLE: GSM2970434\n",
      "19-May-2023 21:51:08 DEBUG GEOparse - SAMPLE: GSM2970435\n",
      "19-May-2023 21:51:08 DEBUG GEOparse - SAMPLE: GSM2970436\n",
      "19-May-2023 21:51:08 DEBUG GEOparse - SAMPLE: GSM2970437\n",
      "19-May-2023 21:51:09 DEBUG utils - Directory ./ already exists. Skipping.\n",
      "19-May-2023 21:51:09 INFO GEOparse - File already exist: using local version.\n",
      "19-May-2023 21:51:09 INFO GEOparse - Parsing ./GPL18573.txt: \n",
      "19-May-2023 21:51:09 DEBUG GEOparse - PLATFORM: GPL18573\n"
     ]
    }
   ],
   "source": [
    "df = get_geo_records(geo_ids)"
   ]
  },
  {
   "cell_type": "code",
   "execution_count": 143,
   "id": "2ab0897f",
   "metadata": {},
   "outputs": [
    {
     "data": {
      "text/html": [
       "<div>\n",
       "<style scoped>\n",
       "    .dataframe tbody tr th:only-of-type {\n",
       "        vertical-align: middle;\n",
       "    }\n",
       "\n",
       "    .dataframe tbody tr th {\n",
       "        vertical-align: top;\n",
       "    }\n",
       "\n",
       "    .dataframe thead th {\n",
       "        text-align: right;\n",
       "    }\n",
       "</style>\n",
       "<table border=\"1\" class=\"dataframe\">\n",
       "  <thead>\n",
       "    <tr style=\"text-align: right;\">\n",
       "      <th></th>\n",
       "      <th>title</th>\n",
       "      <th>expression_type</th>\n",
       "      <th>contact_name</th>\n",
       "      <th>contributors</th>\n",
       "      <th>overall_design</th>\n",
       "      <th>organization</th>\n",
       "      <th>platform</th>\n",
       "    </tr>\n",
       "    <tr>\n",
       "      <th>id</th>\n",
       "      <th></th>\n",
       "      <th></th>\n",
       "      <th></th>\n",
       "      <th></th>\n",
       "      <th></th>\n",
       "      <th></th>\n",
       "      <th></th>\n",
       "    </tr>\n",
       "  </thead>\n",
       "  <tbody>\n",
       "    <tr>\n",
       "      <th>GSE109816</th>\n",
       "      <td>Dissecting cell composition and cell-cell inte...</td>\n",
       "      <td>Expression profiling by high throughput sequen...</td>\n",
       "      <td>Li,,Wang</td>\n",
       "      <td>Li,,Wang | Peng,,Yu | Zheng,,Li | Zongna,,Ren</td>\n",
       "      <td>Extract cells from left ateria and ventricle o...</td>\n",
       "      <td>Homo sapiens</td>\n",
       "      <td>Illumina NextSeq 500 (Homo sapiens)</td>\n",
       "    </tr>\n",
       "    <tr>\n",
       "      <th>GSE109817</th>\n",
       "      <td>RNA-sequencing of mouse adult hippocampal prog...</td>\n",
       "      <td>Expression profiling by high throughput sequen...</td>\n",
       "      <td>Michael,,Piper</td>\n",
       "      <td>Lachlan,,Harris | Michael,,Piper</td>\n",
       "      <td>Hippocampal nestin+ flox-reporter progenitor c...</td>\n",
       "      <td>Mus musculus</td>\n",
       "      <td>Illumina NextSeq 500 (Homo sapiens)</td>\n",
       "    </tr>\n",
       "    <tr>\n",
       "      <th>GSE109818</th>\n",
       "      <td>Changes in gene expression in human skeletal s...</td>\n",
       "      <td>Expression profiling by array</td>\n",
       "      <td>domenico,,raimondo</td>\n",
       "      <td>Domenico,,Raimondo | Cristina,,Remoli | Letizi...</td>\n",
       "      <td>Human bone marrow stromal cells (hBMSCs) (deri...</td>\n",
       "      <td>Homo sapiens</td>\n",
       "      <td>Illumina NextSeq 500 (Homo sapiens)</td>\n",
       "    </tr>\n",
       "    <tr>\n",
       "      <th>GSE109819</th>\n",
       "      <td>Transcriptome analysis of Escherichia coli str...</td>\n",
       "      <td>Expression profiling by high throughput sequen...</td>\n",
       "      <td>Pablo,Emiliano,Tomatis</td>\n",
       "      <td>Pablo,E,Tomatis | Andreas,,Plueckthun</td>\n",
       "      <td>6 samples, 3 replicates</td>\n",
       "      <td>Escherichia coli</td>\n",
       "      <td>Illumina NextSeq 500 (Homo sapiens)</td>\n",
       "    </tr>\n",
       "    <tr>\n",
       "      <th>GSE109820</th>\n",
       "      <td>Early dynamics of ERa and GRHL2 binding on sti...</td>\n",
       "      <td>Genome binding/occupancy profiling by high thr...</td>\n",
       "      <td>Andrew,Nicholas,Holding</td>\n",
       "      <td>Andrew,N,Holding | Florian,,Markowetz</td>\n",
       "      <td>ChIP-seq data in MCF7 at three time-points for...</td>\n",
       "      <td>Homo sapiens</td>\n",
       "      <td>Illumina NextSeq 500 (Homo sapiens)</td>\n",
       "    </tr>\n",
       "  </tbody>\n",
       "</table>\n",
       "</div>"
      ],
      "text/plain": [
       "                                                       title  \\\n",
       "id                                                             \n",
       "GSE109816  Dissecting cell composition and cell-cell inte...   \n",
       "GSE109817  RNA-sequencing of mouse adult hippocampal prog...   \n",
       "GSE109818  Changes in gene expression in human skeletal s...   \n",
       "GSE109819  Transcriptome analysis of Escherichia coli str...   \n",
       "GSE109820  Early dynamics of ERa and GRHL2 binding on sti...   \n",
       "\n",
       "                                             expression_type  \\\n",
       "id                                                             \n",
       "GSE109816  Expression profiling by high throughput sequen...   \n",
       "GSE109817  Expression profiling by high throughput sequen...   \n",
       "GSE109818                      Expression profiling by array   \n",
       "GSE109819  Expression profiling by high throughput sequen...   \n",
       "GSE109820  Genome binding/occupancy profiling by high thr...   \n",
       "\n",
       "                      contact_name  \\\n",
       "id                                   \n",
       "GSE109816                 Li,,Wang   \n",
       "GSE109817           Michael,,Piper   \n",
       "GSE109818       domenico,,raimondo   \n",
       "GSE109819   Pablo,Emiliano,Tomatis   \n",
       "GSE109820  Andrew,Nicholas,Holding   \n",
       "\n",
       "                                                contributors  \\\n",
       "id                                                             \n",
       "GSE109816      Li,,Wang | Peng,,Yu | Zheng,,Li | Zongna,,Ren   \n",
       "GSE109817                   Lachlan,,Harris | Michael,,Piper   \n",
       "GSE109818  Domenico,,Raimondo | Cristina,,Remoli | Letizi...   \n",
       "GSE109819              Pablo,E,Tomatis | Andreas,,Plueckthun   \n",
       "GSE109820              Andrew,N,Holding | Florian,,Markowetz   \n",
       "\n",
       "                                              overall_design  \\\n",
       "id                                                             \n",
       "GSE109816  Extract cells from left ateria and ventricle o...   \n",
       "GSE109817  Hippocampal nestin+ flox-reporter progenitor c...   \n",
       "GSE109818  Human bone marrow stromal cells (hBMSCs) (deri...   \n",
       "GSE109819                            6 samples, 3 replicates   \n",
       "GSE109820  ChIP-seq data in MCF7 at three time-points for...   \n",
       "\n",
       "               organization                             platform  \n",
       "id                                                                \n",
       "GSE109816      Homo sapiens  Illumina NextSeq 500 (Homo sapiens)  \n",
       "GSE109817      Mus musculus  Illumina NextSeq 500 (Homo sapiens)  \n",
       "GSE109818      Homo sapiens  Illumina NextSeq 500 (Homo sapiens)  \n",
       "GSE109819  Escherichia coli  Illumina NextSeq 500 (Homo sapiens)  \n",
       "GSE109820      Homo sapiens  Illumina NextSeq 500 (Homo sapiens)  "
      ]
     },
     "execution_count": 143,
     "metadata": {},
     "output_type": "execute_result"
    }
   ],
   "source": [
    "df"
   ]
  },
  {
   "cell_type": "code",
   "execution_count": 144,
   "id": "ddbcb5cc",
   "metadata": {},
   "outputs": [],
   "source": [
    "df.to_csv(\"gse.csv\")"
   ]
  },
  {
   "cell_type": "code",
   "execution_count": 145,
   "id": "6202d7c5",
   "metadata": {},
   "outputs": [
    {
     "name": "stdout",
     "output_type": "stream",
     "text": [
      "id,title,expression_type,contact_name,contributors,overall_design,organization,platform\r\n",
      "GSE109816,Dissecting cell composition and cell-cell interaction network of normal human heart tissue by single-cell sequencing,Expression profiling by high throughput sequencing,\"Li,,Wang\",\"Li,,Wang | Peng,,Yu | Zheng,,Li | Zongna,,Ren\",Extract cells from left ateria and ventricle of normal heart and conduct single-cell sequencing of 9994 cells.,Homo sapiens,Illumina NextSeq 500 (Homo sapiens)\r\n",
      "GSE109817,RNA-sequencing of mouse adult hippocampal progenitor cells in which Nfix was deleted.,Expression profiling by high throughput sequencing,\"Michael,,Piper\",\"Lachlan,,Harris | Michael,,Piper\",\"Hippocampal nestin+ flox-reporter progenitor cells (3 wt, 3 kos - 60 days post tamoxifen adminstration), dcx+ flox-reporter progenitor cells (3 wt, 3 kos - 7 days post administration)\",Mus musculus,Illumina NextSeq 500 (Homo sapiens)\r\n",
      "GSE109818,Changes in gene expression in human skeletal stem cells transduced with constitutively active Gsα correlates with hallmark histopathological changes seen in fibrous dysplastic bone,Expression profiling by array,\"domenico,,raimondo\",\"Domenico,,Raimondo | Cristina,,Remoli | Letizia,,Astrologo | Romina,,Burla | Mattia,,La Torre | Fiammetta,,Verni’ | Enrico,,Tagliafico | Alessandro,,Corsi | Pamela,G,Robey | Mara,,Riminucci | Isabella,,Saggio | Agnese,,Persichetti | Letizia,,Astrologo | Simona,,Del Giudice | Giuseppe,,Giannicola\",\"Human bone marrow stromal cells (hBMSCs) (derived from bone marrow aspirates) from three independent healthy donors were isolated. Lentiviral vectors (LV-GSαR201C and LV-ctr) were generated, produced and titrated.  The LV-vector integrated copy number was calculated by Q-PCR as described and was established as ~1 copy of integrated lentiviral sequence per transduced cell. hBMSCs were transduced with LV-GSαR201C and LV-ctr or mock treated.\",Homo sapiens,Illumina NextSeq 500 (Homo sapiens)\r\n",
      "GSE109819,Transcriptome analysis of Escherichia coli strains producing exogenous internal membrane proteins,Expression profiling by high throughput sequencing,\"Pablo,Emiliano,Tomatis\",\"Pablo,E,Tomatis | Andreas,,Plueckthun\",\"6 samples, 3 replicates\",Escherichia coli,Illumina NextSeq 500 (Homo sapiens)\r\n",
      "GSE109820,Early dynamics of ERa and GRHL2 binding on stimulation with estradiol,Genome binding/occupancy profiling by high throughput sequencing,\"Andrew,Nicholas,Holding\",\"Andrew,N,Holding | Florian,,Markowetz\",ChIP-seq data in MCF7 at three time-points for ERa and two time points for GRHL2 after stimulation with 100 nM E2,Homo sapiens,Illumina NextSeq 500 (Homo sapiens)\r\n"
     ]
    }
   ],
   "source": [
    "!cat gse.csv"
   ]
  },
  {
   "cell_type": "markdown",
   "id": "bf1b0c78",
   "metadata": {},
   "source": [
    "## Summary"
   ]
  },
  {
   "cell_type": "markdown",
   "id": "c8cdbdef",
   "metadata": {},
   "source": [
    "We've seen how to download data from a GEO accession from NCBI GEO profiles dataset using Python. We've also extended it to download multiple records and save it as pandas datafame and export as csv.\n",
    "\n",
    "Please note that the `GEOparse` library downloads the GEO data into the current directory. See the [Geoparse documentation][1] to see how to use a different directory for storing the downloaded files.\n",
    "\n",
    "[1]: https://geoparse.readthedocs.io/en/latest/"
   ]
  },
  {
   "cell_type": "markdown",
   "id": "26334f14",
   "metadata": {},
   "source": [
    "## References"
   ]
  },
  {
   "cell_type": "markdown",
   "id": "05275bba",
   "metadata": {},
   "source": [
    "* [GEOparse documentation][1]\n",
    "* [How to Retrieve NCBI GEO Information using Python (Bio.Entrez and GEOparse) - Xinzhou Liu][2]\n",
    "* [Ten simple rules for writing and sharing computational analyses in Jupyter Notebooks][3]\n",
    "\n",
    "[1]: https://geoparse.readthedocs.io/en/latest/\n",
    "[2]: https://newarkcaptain.com/how-to-retrieve-ncbi-geo-information-using-apis-part1/\n",
    "[3]: https://journals.plos.org/ploscompbiol/article?id=10.1371%2Fjournal.pcbi.1007007\n",
    "\n"
   ]
  },
  {
   "cell_type": "code",
   "execution_count": null,
   "id": "f077bb99",
   "metadata": {},
   "outputs": [],
   "source": []
  }
 ],
 "metadata": {
  "kernelspec": {
   "display_name": "Python 3 (ipykernel)",
   "language": "python",
   "name": "python3"
  },
  "language_info": {
   "codemirror_mode": {
    "name": "ipython",
    "version": 3
   },
   "file_extension": ".py",
   "mimetype": "text/x-python",
   "name": "python",
   "nbconvert_exporter": "python",
   "pygments_lexer": "ipython3",
   "version": "3.10.6"
  }
 },
 "nbformat": 4,
 "nbformat_minor": 5
}
