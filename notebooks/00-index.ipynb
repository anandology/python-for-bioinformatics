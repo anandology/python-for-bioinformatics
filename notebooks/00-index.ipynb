{
 "cells": [
  {
   "cell_type": "markdown",
   "id": "8a3ace6b-dfec-428e-a8fe-e75c2684f296",
   "metadata": {
    "user_expressions": []
   },
   "source": [
    "# Python for Bioinformatics"
   ]
  },
  {
   "cell_type": "markdown",
   "id": "ffb66e14-a76f-4aac-ba5e-175c39c7e14e",
   "metadata": {
    "user_expressions": []
   },
   "source": [
    "Python course for Bioinformatics professionals."
   ]
  },
  {
   "cell_type": "markdown",
   "id": "83417960-8ba6-40e6-a5bb-d80d47779cf3",
   "metadata": {
    "user_expressions": []
   },
   "source": [
    "## Outline"
   ]
  },
  {
   "cell_type": "markdown",
   "id": "45585458-885b-428b-83d5-15e9046dff29",
   "metadata": {
    "user_expressions": []
   },
   "source": [
    "**Introduction to Python**\n",
    "\n",
    "**Introdution to Data Analysis**\n",
    "\n",
    "1. [Introduction to Data Analysis](11-introduction-to-data-analysis.ipynb)\n",
    "\n",
    "**Cookbook**\n",
    "\n",
    "1. [Extract GSE data from NCBI database](21-geoparse.ipynb)"
   ]
  },
  {
   "cell_type": "markdown",
   "id": "1ff02cd0-c81a-4f6e-bb48-00f5f5001443",
   "metadata": {
    "user_expressions": []
   },
   "source": []
  },
  {
   "cell_type": "code",
   "execution_count": null,
   "id": "5aa5bb4c-909f-47c6-9415-c04f1da92e54",
   "metadata": {},
   "outputs": [],
   "source": []
  }
 ],
 "metadata": {
  "kernelspec": {
   "display_name": "Python 3 (ipykernel)",
   "language": "python",
   "name": "python3"
  },
  "language_info": {
   "codemirror_mode": {
    "name": "ipython",
    "version": 3
   },
   "file_extension": ".py",
   "mimetype": "text/x-python",
   "name": "python",
   "nbconvert_exporter": "python",
   "pygments_lexer": "ipython3",
   "version": "3.10.6"
  }
 },
 "nbformat": 4,
 "nbformat_minor": 5
}
